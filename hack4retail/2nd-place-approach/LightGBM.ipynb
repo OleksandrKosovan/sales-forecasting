{
 "cells": [
  {
   "cell_type": "code",
   "execution_count": 1,
   "id": "2a1a95a6-e106-40ef-bb6e-71e8052835a2",
   "metadata": {},
   "outputs": [],
   "source": [
    "import datetime as dt\n",
    "import os\n",
    "import gc\n",
    "\n",
    "import pandas as pd\n",
    "# import dask.dataframe as pd\n",
    "import numpy as np\n",
    "import matplotlib.pyplot as plt\n",
    "\n",
    "import lightgbm as lgb\n",
    "from sklearn.model_selection import KFold"
   ]
  },
  {
   "cell_type": "code",
   "execution_count": 2,
   "id": "ff52fde7-be61-4328-af5f-deecbb1b945f",
   "metadata": {},
   "outputs": [],
   "source": [
    "pd.set_option('display.max_rows', 1000)\n",
    "pd.set_option('display.max_columns', 100)"
   ]
  },
  {
   "cell_type": "code",
   "execution_count": 3,
   "id": "6a69efa0-e47f-4a8e-9fae-78a53e22f8be",
   "metadata": {},
   "outputs": [],
   "source": [
    "INPUT_FOLDER = './data/input'\n",
    "OUTPUT_FOLDER = './data/output'"
   ]
  },
  {
   "cell_type": "code",
   "execution_count": 4,
   "id": "8d4bdaf9-e48e-46b3-8671-86fdc3e3cedd",
   "metadata": {},
   "outputs": [
    {
     "data": {
      "text/plain": [
       "['geo_params.csv',\n",
       " 'sample_final.csv',\n",
       " 'sku_final.csv',\n",
       " 'test_data.csv',\n",
       " 'train_final.csv']"
      ]
     },
     "execution_count": 4,
     "metadata": {},
     "output_type": "execute_result"
    }
   ],
   "source": [
    "os.listdir(INPUT_FOLDER)"
   ]
  },
  {
   "cell_type": "markdown",
   "id": "28bf1116-4733-4822-bad9-521e8f7ac794",
   "metadata": {},
   "source": [
    "## Зчитаємо дані"
   ]
  },
  {
   "cell_type": "code",
   "execution_count": 5,
   "id": "66b396ef-8c20-4fde-97ed-b17f0602a699",
   "metadata": {},
   "outputs": [],
   "source": [
    "dateparser = lambda x: dt.datetime.strptime(x, '%Y-%m-%d')"
   ]
  },
  {
   "cell_type": "code",
   "execution_count": 6,
   "id": "a5cb4d50-b5c8-4d6c-948e-1422ed7642e2",
   "metadata": {},
   "outputs": [],
   "source": [
    "df_train = pd.read_csv(os.path.join(INPUT_FOLDER, 'train_final.csv'), \n",
    "    index_col='ID', \n",
    "    parse_dates = ['date'],\n",
    "    date_parser=dateparser)  "
   ]
  },
  {
   "cell_type": "code",
   "execution_count": 7,
   "id": "a29dd0c8-c82a-46b3-b10a-7b161bc216b5",
   "metadata": {},
   "outputs": [],
   "source": [
    "df_train['sales'].fillna(0, inplace=True)"
   ]
  },
  {
   "cell_type": "code",
   "execution_count": 8,
   "id": "77609c0a-1b2c-4297-891c-1c7e74a7c34b",
   "metadata": {},
   "outputs": [],
   "source": [
    "df_train.sort_values('date', inplace=True)"
   ]
  },
  {
   "cell_type": "code",
   "execution_count": 9,
   "id": "22f1d98c-97e8-4f74-b3d8-7641497a3fc6",
   "metadata": {},
   "outputs": [],
   "source": [
    "df_train['price'] = df_train.groupby(['geoCluster', 'SKU'], sort=False)['price'].apply(lambda x: x.ffill().bfill())"
   ]
  },
  {
   "cell_type": "code",
   "execution_count": 14,
   "id": "da9079b4-5810-4bd5-b707-1bc33b6a7e66",
   "metadata": {},
   "outputs": [],
   "source": [
    "df_test = pd.read_csv(\n",
    "    os.path.join(INPUT_FOLDER, 'test_data.csv'),\n",
    "    index_col='ID', \n",
    "    parse_dates = ['date'],\n",
    "    date_parser=dateparser\n",
    ")"
   ]
  },
  {
   "cell_type": "code",
   "execution_count": 20,
   "id": "85288998-f1ff-4e4c-83c0-919d62adc26c",
   "metadata": {},
   "outputs": [],
   "source": [
    "df_train = df_train[df_train['date'] >= '2021-05-01']"
   ]
  },
  {
   "cell_type": "code",
   "execution_count": 21,
   "id": "cc72db9e-a4db-4169-af49-32d5675648bf",
   "metadata": {},
   "outputs": [
    {
     "data": {
      "text/html": [
       "<div>\n",
       "<style scoped>\n",
       "    .dataframe tbody tr th:only-of-type {\n",
       "        vertical-align: middle;\n",
       "    }\n",
       "\n",
       "    .dataframe tbody tr th {\n",
       "        vertical-align: top;\n",
       "    }\n",
       "\n",
       "    .dataframe thead th {\n",
       "        text-align: right;\n",
       "    }\n",
       "</style>\n",
       "<table border=\"1\" class=\"dataframe\">\n",
       "  <thead>\n",
       "    <tr style=\"text-align: right;\">\n",
       "      <th></th>\n",
       "      <th>sales</th>\n",
       "    </tr>\n",
       "    <tr>\n",
       "      <th>ID</th>\n",
       "      <th></th>\n",
       "    </tr>\n",
       "  </thead>\n",
       "  <tbody>\n",
       "    <tr>\n",
       "      <th>RR1666030</th>\n",
       "      <td>0</td>\n",
       "    </tr>\n",
       "    <tr>\n",
       "      <th>RR1666031</th>\n",
       "      <td>0</td>\n",
       "    </tr>\n",
       "    <tr>\n",
       "      <th>RR1666032</th>\n",
       "      <td>0</td>\n",
       "    </tr>\n",
       "    <tr>\n",
       "      <th>RR1666033</th>\n",
       "      <td>0</td>\n",
       "    </tr>\n",
       "    <tr>\n",
       "      <th>RR1666034</th>\n",
       "      <td>0</td>\n",
       "    </tr>\n",
       "  </tbody>\n",
       "</table>\n",
       "</div>"
      ],
      "text/plain": [
       "           sales\n",
       "ID              \n",
       "RR1666030      0\n",
       "RR1666031      0\n",
       "RR1666032      0\n",
       "RR1666033      0\n",
       "RR1666034      0"
      ]
     },
     "execution_count": 21,
     "metadata": {},
     "output_type": "execute_result"
    }
   ],
   "source": [
    "submission = pd.read_csv(os.path.join(INPUT_FOLDER, 'sample_final.csv'), index_col='ID')\n",
    "\n",
    "submission.head()"
   ]
  },
  {
   "cell_type": "code",
   "execution_count": 23,
   "id": "02ed0fcb-0cf5-4032-8e07-8680a4143191",
   "metadata": {
    "tags": []
   },
   "outputs": [
    {
     "data": {
      "text/html": [
       "<div>\n",
       "<style scoped>\n",
       "    .dataframe tbody tr th:only-of-type {\n",
       "        vertical-align: middle;\n",
       "    }\n",
       "\n",
       "    .dataframe tbody tr th {\n",
       "        vertical-align: top;\n",
       "    }\n",
       "\n",
       "    .dataframe thead th {\n",
       "        text-align: right;\n",
       "    }\n",
       "</style>\n",
       "<table border=\"1\" class=\"dataframe\">\n",
       "  <thead>\n",
       "    <tr style=\"text-align: right;\">\n",
       "      <th></th>\n",
       "      <th>geoCluster</th>\n",
       "      <th>cityId</th>\n",
       "    </tr>\n",
       "  </thead>\n",
       "  <tbody>\n",
       "    <tr>\n",
       "      <th>0</th>\n",
       "      <td>21</td>\n",
       "      <td>1</td>\n",
       "    </tr>\n",
       "    <tr>\n",
       "      <th>1</th>\n",
       "      <td>47</td>\n",
       "      <td>1</td>\n",
       "    </tr>\n",
       "    <tr>\n",
       "      <th>2</th>\n",
       "      <td>48</td>\n",
       "      <td>1</td>\n",
       "    </tr>\n",
       "    <tr>\n",
       "      <th>3</th>\n",
       "      <td>92</td>\n",
       "      <td>1</td>\n",
       "    </tr>\n",
       "    <tr>\n",
       "      <th>4</th>\n",
       "      <td>112</td>\n",
       "      <td>1</td>\n",
       "    </tr>\n",
       "  </tbody>\n",
       "</table>\n",
       "</div>"
      ],
      "text/plain": [
       "   geoCluster  cityId\n",
       "0          21       1\n",
       "1          47       1\n",
       "2          48       1\n",
       "3          92       1\n",
       "4         112       1"
      ]
     },
     "execution_count": 23,
     "metadata": {},
     "output_type": "execute_result"
    }
   ],
   "source": [
    "geo_params = pd.read_csv(os.path.join(INPUT_FOLDER, 'geo_params.csv'))\n",
    "geo_params.head()"
   ]
  },
  {
   "cell_type": "code",
   "execution_count": 26,
   "id": "cb1b1961-45a8-40be-8548-a4bfe8d8dc08",
   "metadata": {},
   "outputs": [
    {
     "data": {
      "text/html": [
       "<div>\n",
       "<style scoped>\n",
       "    .dataframe tbody tr th:only-of-type {\n",
       "        vertical-align: middle;\n",
       "    }\n",
       "\n",
       "    .dataframe tbody tr th {\n",
       "        vertical-align: top;\n",
       "    }\n",
       "\n",
       "    .dataframe thead th {\n",
       "        text-align: right;\n",
       "    }\n",
       "</style>\n",
       "<table border=\"1\" class=\"dataframe\">\n",
       "  <thead>\n",
       "    <tr style=\"text-align: right;\">\n",
       "      <th></th>\n",
       "      <th>SKU</th>\n",
       "      <th>productCategoryId</th>\n",
       "      <th>productCategory_caption_UKR</th>\n",
       "      <th>productCategory_caption_RU</th>\n",
       "      <th>productCategory_caption_ENG</th>\n",
       "      <th>productTypeId</th>\n",
       "      <th>productType_caption_UKR</th>\n",
       "      <th>productType_caption_RU</th>\n",
       "      <th>productType_caption_ENG</th>\n",
       "      <th>brandId</th>\n",
       "      <th>lagerUnitQuantity</th>\n",
       "      <th>lagerUnitTypeId</th>\n",
       "      <th>lagerUnitType_caption</th>\n",
       "      <th>trademark</th>\n",
       "      <th>countryOfOrigin</th>\n",
       "      <th>countryOfOrigin_caption</th>\n",
       "      <th>commodity_group</th>\n",
       "      <th>commodity_group_caption_UKR</th>\n",
       "      <th>commodity_group_caption_RU</th>\n",
       "      <th>commodity_group_caption_ENG</th>\n",
       "    </tr>\n",
       "  </thead>\n",
       "  <tbody>\n",
       "    <tr>\n",
       "      <th>0</th>\n",
       "      <td>17</td>\n",
       "      <td>5416.0</td>\n",
       "      <td>Хурма</td>\n",
       "      <td>Хурма</td>\n",
       "      <td>Persimmon</td>\n",
       "      <td>4770.0</td>\n",
       "      <td>Тропічні фрукти - Хурма - Звичайна</td>\n",
       "      <td>Тропические фрукты - Хурма - Обычная</td>\n",
       "      <td>Tropical fruit — Persimmon — Plain</td>\n",
       "      <td>NaN</td>\n",
       "      <td>1.0</td>\n",
       "      <td>1</td>\n",
       "      <td>г</td>\n",
       "      <td>NaN</td>\n",
       "      <td>NaN</td>\n",
       "      <td>NaN</td>\n",
       "      <td>5551018</td>\n",
       "      <td>Фрукти тропічні</td>\n",
       "      <td>Фрукты тропические</td>\n",
       "      <td>Tropical fruits</td>\n",
       "    </tr>\n",
       "    <tr>\n",
       "      <th>1</th>\n",
       "      <td>18</td>\n",
       "      <td>5413.0</td>\n",
       "      <td>Фейхоа</td>\n",
       "      <td>Фейхоа</td>\n",
       "      <td>Feijoa</td>\n",
       "      <td>4772.0</td>\n",
       "      <td>Тропічні фрукти - Екзотичні</td>\n",
       "      <td>Тропические фрукты - Экзотические</td>\n",
       "      <td>Tropical fruit — Exotic</td>\n",
       "      <td>NaN</td>\n",
       "      <td>1.0</td>\n",
       "      <td>1</td>\n",
       "      <td>г</td>\n",
       "      <td>NaN</td>\n",
       "      <td>NaN</td>\n",
       "      <td>NaN</td>\n",
       "      <td>5551018</td>\n",
       "      <td>Фрукти тропічні</td>\n",
       "      <td>Фрукты тропические</td>\n",
       "      <td>Tropical fruits</td>\n",
       "    </tr>\n",
       "    <tr>\n",
       "      <th>2</th>\n",
       "      <td>24</td>\n",
       "      <td>5425.0</td>\n",
       "      <td>Гранат</td>\n",
       "      <td>Гранат</td>\n",
       "      <td>Pomegranate</td>\n",
       "      <td>4760.0</td>\n",
       "      <td>Тропічні фрукти - Гранат - Звичайний</td>\n",
       "      <td>Тропические фрукты - Гранат - Обычный</td>\n",
       "      <td>Tropical fruit — Pomegranate— Plain</td>\n",
       "      <td>NaN</td>\n",
       "      <td>1.0</td>\n",
       "      <td>1</td>\n",
       "      <td>г</td>\n",
       "      <td>NaN</td>\n",
       "      <td>NaN</td>\n",
       "      <td>NaN</td>\n",
       "      <td>5551018</td>\n",
       "      <td>Фрукти тропічні</td>\n",
       "      <td>Фрукты тропические</td>\n",
       "      <td>Tropical fruits</td>\n",
       "    </tr>\n",
       "    <tr>\n",
       "      <th>3</th>\n",
       "      <td>25</td>\n",
       "      <td>5431.0</td>\n",
       "      <td>Апельсин</td>\n",
       "      <td>Апельсин</td>\n",
       "      <td>Orange</td>\n",
       "      <td>4773.0</td>\n",
       "      <td>Цитрусові фрукти - Апельсин - Звичайний</td>\n",
       "      <td>Цитрусовые фрукты - Апельсин - Обычный</td>\n",
       "      <td>Citrus fruit — Orange — Plain</td>\n",
       "      <td>NaN</td>\n",
       "      <td>1.0</td>\n",
       "      <td>2</td>\n",
       "      <td>кг</td>\n",
       "      <td>NaN</td>\n",
       "      <td>8.0</td>\n",
       "      <td>Іспанія</td>\n",
       "      <td>5551018</td>\n",
       "      <td>Фрукти тропічні</td>\n",
       "      <td>Фрукты тропические</td>\n",
       "      <td>Tropical fruits</td>\n",
       "    </tr>\n",
       "    <tr>\n",
       "      <th>4</th>\n",
       "      <td>208</td>\n",
       "      <td>5835.0</td>\n",
       "      <td>Вода України газована</td>\n",
       "      <td>Вода Украины газированная</td>\n",
       "      <td>Water, Ukraine, sparkling</td>\n",
       "      <td>3457.0</td>\n",
       "      <td>Лікувально-столова вода - Україна - ПЕТ - від ...</td>\n",
       "      <td>Лечебно-столовая вода - Украина - ПЭТ - от 1л ...</td>\n",
       "      <td>Therapeutic-table water — Ukraine — PET — from...</td>\n",
       "      <td>1241.0</td>\n",
       "      <td>1.5</td>\n",
       "      <td>3</td>\n",
       "      <td>л</td>\n",
       "      <td>3670.0</td>\n",
       "      <td>1.0</td>\n",
       "      <td>Україна</td>\n",
       "      <td>5550022</td>\n",
       "      <td>Вода Мфнеральна</td>\n",
       "      <td>Вода Минеральная</td>\n",
       "      <td>Mineral water</td>\n",
       "    </tr>\n",
       "  </tbody>\n",
       "</table>\n",
       "</div>"
      ],
      "text/plain": [
       "   SKU  productCategoryId productCategory_caption_UKR  \\\n",
       "0   17             5416.0                       Хурма   \n",
       "1   18             5413.0                      Фейхоа   \n",
       "2   24             5425.0                      Гранат   \n",
       "3   25             5431.0                    Апельсин   \n",
       "4  208             5835.0       Вода України газована   \n",
       "\n",
       "  productCategory_caption_RU productCategory_caption_ENG  productTypeId  \\\n",
       "0                      Хурма                   Persimmon         4770.0   \n",
       "1                     Фейхоа                      Feijoa         4772.0   \n",
       "2                     Гранат                 Pomegranate         4760.0   \n",
       "3                   Апельсин                      Orange         4773.0   \n",
       "4  Вода Украины газированная   Water, Ukraine, sparkling         3457.0   \n",
       "\n",
       "                             productType_caption_UKR  \\\n",
       "0                 Тропічні фрукти - Хурма - Звичайна   \n",
       "1                        Тропічні фрукти - Екзотичні   \n",
       "2               Тропічні фрукти - Гранат - Звичайний   \n",
       "3            Цитрусові фрукти - Апельсин - Звичайний   \n",
       "4  Лікувально-столова вода - Україна - ПЕТ - від ...   \n",
       "\n",
       "                              productType_caption_RU  \\\n",
       "0               Тропические фрукты - Хурма - Обычная   \n",
       "1                  Тропические фрукты - Экзотические   \n",
       "2              Тропические фрукты - Гранат - Обычный   \n",
       "3             Цитрусовые фрукты - Апельсин - Обычный   \n",
       "4  Лечебно-столовая вода - Украина - ПЭТ - от 1л ...   \n",
       "\n",
       "                             productType_caption_ENG  brandId  \\\n",
       "0                 Tropical fruit — Persimmon — Plain      NaN   \n",
       "1                            Tropical fruit — Exotic      NaN   \n",
       "2                Tropical fruit — Pomegranate— Plain      NaN   \n",
       "3                      Citrus fruit — Orange — Plain      NaN   \n",
       "4  Therapeutic-table water — Ukraine — PET — from...   1241.0   \n",
       "\n",
       "   lagerUnitQuantity  lagerUnitTypeId lagerUnitType_caption  trademark  \\\n",
       "0                1.0                1            г                 NaN   \n",
       "1                1.0                1            г                 NaN   \n",
       "2                1.0                1            г                 NaN   \n",
       "3                1.0                2            кг                NaN   \n",
       "4                1.5                3            л              3670.0   \n",
       "\n",
       "   countryOfOrigin countryOfOrigin_caption  commodity_group  \\\n",
       "0              NaN                     NaN          5551018   \n",
       "1              NaN                     NaN          5551018   \n",
       "2              NaN                     NaN          5551018   \n",
       "3              8.0                 Іспанія          5551018   \n",
       "4              1.0                 Україна          5550022   \n",
       "\n",
       "  commodity_group_caption_UKR commodity_group_caption_RU  \\\n",
       "0             Фрукти тропічні         Фрукты тропические   \n",
       "1             Фрукти тропічні         Фрукты тропические   \n",
       "2             Фрукти тропічні         Фрукты тропические   \n",
       "3             Фрукти тропічні         Фрукты тропические   \n",
       "4             Вода Мфнеральна           Вода Минеральная   \n",
       "\n",
       "  commodity_group_caption_ENG  \n",
       "0             Tropical fruits  \n",
       "1             Tropical fruits  \n",
       "2             Tropical fruits  \n",
       "3             Tropical fruits  \n",
       "4               Mineral water  "
      ]
     },
     "execution_count": 26,
     "metadata": {},
     "output_type": "execute_result"
    }
   ],
   "source": [
    "sku = pd.read_csv(os.path.join(INPUT_FOLDER, 'sku_final.csv'))\n",
    "\n",
    "sku.head()"
   ]
  },
  {
   "cell_type": "markdown",
   "id": "faa563d4-a9a0-4e67-987d-34d038ea4dc2",
   "metadata": {},
   "source": [
    "# Data preprocessing"
   ]
  },
  {
   "cell_type": "code",
   "execution_count": 27,
   "id": "b7c4e050-8389-4e39-87ef-b0642bd47ca6",
   "metadata": {},
   "outputs": [],
   "source": [
    "def merge_data(df):\n",
    "    df = df.copy(deep=True)\n",
    "    df = df.merge(sku, on = 'SKU', how='left')\n",
    "    df = df.merge(geo_params, on = 'geoCluster', how='left')\n",
    "    return df\n",
    "\n",
    "def preprocess_date(df):\n",
    "    df['month'] = df['date'].dt.month\n",
    "#     df['weekofyear'] = df['date'].dt.weekofyear\n",
    "    df['day'] = df['date'].dt.day\n",
    "    df['dayofweek'] = df['date'].dt.dayofweek\n",
    "#     df['dayofyear'] = df['date'].dt.dayofyear\n",
    "    return df"
   ]
  },
  {
   "cell_type": "code",
   "execution_count": 28,
   "id": "2f37a085-0db9-48ba-b83a-38318cb71c9e",
   "metadata": {},
   "outputs": [],
   "source": [
    "df_train = merge_data(df_train)"
   ]
  },
  {
   "cell_type": "code",
   "execution_count": 29,
   "id": "d0065caf-26fc-4c30-851d-8cb70c60b0b0",
   "metadata": {},
   "outputs": [],
   "source": [
    "df_train = preprocess_date(df_train)"
   ]
  },
  {
   "cell_type": "code",
   "execution_count": 30,
   "id": "c1304609-9a10-45e2-885b-ce8e3f2df75b",
   "metadata": {},
   "outputs": [
    {
     "name": "stdout",
     "output_type": "stream",
     "text": [
      "<class 'pandas.core.frame.DataFrame'>\n",
      "Int64Index: 8514733 entries, 0 to 8514732\n",
      "Data columns (total 28 columns):\n",
      " #   Column                       Dtype         \n",
      "---  ------                       -----         \n",
      " 0   geoCluster                   int64         \n",
      " 1   SKU                          int64         \n",
      " 2   date                         datetime64[ns]\n",
      " 3   price                        float64       \n",
      " 4   sales                        float64       \n",
      " 5   productCategoryId            float64       \n",
      " 6   productCategory_caption_UKR  object        \n",
      " 7   productCategory_caption_RU   object        \n",
      " 8   productCategory_caption_ENG  object        \n",
      " 9   productTypeId                float64       \n",
      " 10  productType_caption_UKR      object        \n",
      " 11  productType_caption_RU       object        \n",
      " 12  productType_caption_ENG      object        \n",
      " 13  brandId                      float64       \n",
      " 14  lagerUnitQuantity            float64       \n",
      " 15  lagerUnitTypeId              int64         \n",
      " 16  lagerUnitType_caption        object        \n",
      " 17  trademark                    float64       \n",
      " 18  countryOfOrigin              float64       \n",
      " 19  countryOfOrigin_caption      object        \n",
      " 20  commodity_group              int64         \n",
      " 21  commodity_group_caption_UKR  object        \n",
      " 22  commodity_group_caption_RU   object        \n",
      " 23  commodity_group_caption_ENG  object        \n",
      " 24  cityId                       int64         \n",
      " 25  month                        int64         \n",
      " 26  day                          int64         \n",
      " 27  dayofweek                    int64         \n",
      "dtypes: datetime64[ns](1), float64(8), int64(8), object(11)\n",
      "memory usage: 1.8+ GB\n"
     ]
    }
   ],
   "source": [
    "df_train.info()"
   ]
  },
  {
   "cell_type": "code",
   "execution_count": 31,
   "id": "5ff807f2-fe57-46ce-97f7-93a64ea01dfb",
   "metadata": {},
   "outputs": [],
   "source": [
    "# df_train.sample(15)"
   ]
  },
  {
   "cell_type": "code",
   "execution_count": 32,
   "id": "f147f9bd-14fb-4720-a970-3b6f5634f3bb",
   "metadata": {},
   "outputs": [],
   "source": [
    "cat_cols = [\n",
    "    'geoCluster', 'SKU', 'productCategoryId', 'productTypeId', 'brandId', 'lagerUnitTypeId', \n",
    "    'trademark', 'countryOfOrigin', 'commodity_group', 'cityId', \n",
    "    'month', \n",
    "#     'weekofyear',\n",
    "    'day',\n",
    "    'dayofweek',\n",
    "#     'dayofyear'\n",
    "]\n",
    "num_cols = [\n",
    "    'price', \n",
    "    'lagerUnitQuantity',\n",
    "#     'price_change'\n",
    "\n",
    "]\n",
    "target = 'sales'\n",
    "info_cols = ['date']\n",
    "drop_cols = ['productCategory_caption_UKR', 'productCategory_caption_RU', 'productCategory_caption_ENG',\n",
    "    'productType_caption_UKR', 'productType_caption_RU', 'productType_caption_ENG', 'lagerUnitType_caption', 'countryOfOrigin_caption',\n",
    "    'commodity_group_caption_UKR', 'commodity_group_caption_RU', 'commodity_group_caption_ENG']\n",
    "\n",
    "def categorize_columns(df):\n",
    "    df = df.copy(deep=True)\n",
    "    df.drop(drop_cols, axis=1, inplace=True)\n",
    "    df[cat_cols] = df[cat_cols].astype('category')\n",
    "    return df"
   ]
  },
  {
   "cell_type": "code",
   "execution_count": 33,
   "id": "7739c206-a5de-45bf-924e-7d22c9b7375b",
   "metadata": {},
   "outputs": [],
   "source": [
    "df_train = categorize_columns(df_train)"
   ]
  },
  {
   "cell_type": "code",
   "execution_count": 34,
   "id": "a61e6d10-c553-458e-9b09-8ec772d33901",
   "metadata": {},
   "outputs": [],
   "source": [
    "X, y = df_train.drop(target, axis=1).copy(), df_train[target].copy()"
   ]
  },
  {
   "cell_type": "code",
   "execution_count": 35,
   "id": "8c0ab4d9-7fa9-41d1-96d9-11708b323bec",
   "metadata": {},
   "outputs": [
    {
     "data": {
      "text/plain": [
       "57"
      ]
     },
     "execution_count": 35,
     "metadata": {},
     "output_type": "execute_result"
    }
   ],
   "source": [
    "del df_train\n",
    "gc.collect()"
   ]
  },
  {
   "cell_type": "code",
   "execution_count": 36,
   "id": "5dda1bb4-9bd9-4e88-af45-c32cee36b24b",
   "metadata": {},
   "outputs": [],
   "source": [
    "sku_float_sales = X[y - y.astype(int) != 0]['SKU'].unique()"
   ]
  },
  {
   "cell_type": "markdown",
   "id": "c08bf584-9089-490f-a1a1-080fb1b4303f",
   "metadata": {},
   "source": [
    "# Model training"
   ]
  },
  {
   "cell_type": "code",
   "execution_count": 37,
   "id": "f8cba0f9-85e0-4f93-9190-8b6a4d31e050",
   "metadata": {},
   "outputs": [],
   "source": [
    "params = {\n",
    "    'random_state':42, \n",
    "    'n_estimators':500,\n",
    "    'objective': 'regression',\n",
    "    'metric': 'mae',\n",
    "    \"early_stopping_rounds\":50,\n",
    "    'learning_rate':0.1,\n",
    "    'subsample':0.8,\n",
    "    'subsample_freq':10,\n",
    "    'feature_fraction':0.5    \n",
    "}\n"
   ]
  },
  {
   "cell_type": "code",
   "execution_count": 38,
   "id": "804d1e5e-6293-4a86-8d17-5cc83510e2c0",
   "metadata": {},
   "outputs": [],
   "source": [
    "def custom_mae(y_true, y_pred, dates):\n",
    "    df = pd.DataFrame(data={\n",
    "        'y_true': np.asarray(y_true), \n",
    "        'y_pred': np.asarray(y_pred), \n",
    "        'date': np.asarray(dates)})\n",
    "    df['error'] = np.abs(df['y_pred'] - df['y_true'])\n",
    "    df_sum = df.groupby('date').sum().reset_index()\n",
    "    df_sum.dropna(subset=['error', 'y_true'], how='any', inplace=True)\n",
    "    df_sum = df_sum[df_sum['y_true'] > 0]\n",
    "    if df_sum.shape[0] != df['date'].drop_duplicates().shape[0]:\n",
    "        print(f\"{df['date'].drop_duplicates().shape[0] - df_sum.shape[0]} rows were dropped because of 0 sales\")\n",
    "    return (df_sum['error'] / df_sum['y_true']).mean()"
   ]
  },
  {
   "cell_type": "code",
   "execution_count": 39,
   "id": "626c4645-4935-4a9c-81cf-00e66ec9ac3e",
   "metadata": {},
   "outputs": [
    {
     "name": "stdout",
     "output_type": "stream",
     "text": [
      "Fold 0: (numpy.datetime64('2021-05-01T00:00:00.000000000'), numpy.datetime64('2021-05-16T00:00:00.000000000'))\n",
      "Fold 1: (numpy.datetime64('2021-05-17T00:00:00.000000000'), numpy.datetime64('2021-06-01T00:00:00.000000000'))\n",
      "Fold 2: (numpy.datetime64('2021-06-02T00:00:00.000000000'), numpy.datetime64('2021-06-17T00:00:00.000000000'))\n",
      "Fold 3: (numpy.datetime64('2021-06-18T00:00:00.000000000'), numpy.datetime64('2021-07-03T00:00:00.000000000'))\n",
      "Fold 4: (numpy.datetime64('2021-07-04T00:00:00.000000000'), numpy.datetime64('2021-07-19T00:00:00.000000000'))\n"
     ]
    }
   ],
   "source": [
    "n_splits = 5\n",
    "folds = np.array_split(X['date'].drop_duplicates().values, n_splits)\n",
    "folds = [(fold[0], fold[-1]) for fold in folds]\n",
    "for i, fold in enumerate(folds):\n",
    "    print(f'Fold {i}: {fold}')"
   ]
  },
  {
   "cell_type": "code",
   "execution_count": 40,
   "id": "e32b78f0-4a64-4974-b6a3-07a5f1ab56a5",
   "metadata": {},
   "outputs": [],
   "source": [
    "models = []\n",
    "\n",
    "train_mae_scores = []\n",
    "val_mae_scores = []"
   ]
  },
  {
   "cell_type": "code",
   "execution_count": 41,
   "id": "bbab7f88-b438-4c34-87c3-c180b9d8bfbf",
   "metadata": {
    "tags": []
   },
   "outputs": [
    {
     "name": "stdout",
     "output_type": "stream",
     "text": [
      "\n",
      "Fold 1\n",
      "2021-05-01 00:00:00 2021-05-16 00:00:00\n"
     ]
    },
    {
     "name": "stderr",
     "output_type": "stream",
     "text": [
      "/home/eddie/miniconda3/envs/hack4retail/lib/python3.9/site-packages/lightgbm/sklearn.py:736: UserWarning: 'verbose' argument is deprecated and will be removed in a future release of LightGBM. Pass 'log_evaluation()' callback via 'callbacks' argument instead.\n",
      "  _log_warning(\"'verbose' argument is deprecated and will be removed in a future release of LightGBM. \"\n"
     ]
    },
    {
     "name": "stdout",
     "output_type": "stream",
     "text": [
      "[LightGBM] [Warning] early_stopping_round is set=50, early_stopping_rounds=50 will be ignored. Current value: early_stopping_round=50\n",
      "[LightGBM] [Warning] feature_fraction is set=0.5, colsample_bytree=1.0 will be ignored. Current value: feature_fraction=0.5\n"
     ]
    },
    {
     "name": "stderr",
     "output_type": "stream",
     "text": [
      "/home/eddie/miniconda3/envs/hack4retail/lib/python3.9/site-packages/lightgbm/basic.py:1780: UserWarning: Overriding the parameters from Reference Dataset.\n",
      "  _log_warning('Overriding the parameters from Reference Dataset.')\n",
      "/home/eddie/miniconda3/envs/hack4retail/lib/python3.9/site-packages/lightgbm/basic.py:1513: UserWarning: categorical_column in param dict is overridden.\n",
      "  _log_warning(f'{cat_alias} in param dict is overridden.')\n"
     ]
    },
    {
     "name": "stdout",
     "output_type": "stream",
     "text": [
      "[50]\ttraining's l1: 0.286592\tvalid_1's l1: 0.291598\n",
      "Train mean daily MAE: 1.0370767630681577\n",
      "Valid mean daily MAE: 1.0568761683609842\n",
      "\n",
      "Fold 2\n",
      "2021-05-17 00:00:00 2021-06-01 00:00:00\n",
      "[LightGBM] [Warning] early_stopping_round is set=50, early_stopping_rounds=50 will be ignored. Current value: early_stopping_round=50\n",
      "[LightGBM] [Warning] feature_fraction is set=0.5, colsample_bytree=1.0 will be ignored. Current value: feature_fraction=0.5\n",
      "[50]\ttraining's l1: 0.283891\tvalid_1's l1: 0.299177\n",
      "[100]\ttraining's l1: 0.281303\tvalid_1's l1: 0.299156\n",
      "Train mean daily MAE: 1.0378611854219386\n",
      "Valid mean daily MAE: 1.0314736089208234\n",
      "\n",
      "Fold 3\n",
      "2021-06-02 00:00:00 2021-06-17 00:00:00\n",
      "[LightGBM] [Warning] early_stopping_round is set=50, early_stopping_rounds=50 will be ignored. Current value: early_stopping_round=50\n",
      "[LightGBM] [Warning] feature_fraction is set=0.5, colsample_bytree=1.0 will be ignored. Current value: feature_fraction=0.5\n",
      "[50]\ttraining's l1: 0.289658\tvalid_1's l1: 0.282616\n",
      "[100]\ttraining's l1: 0.286938\tvalid_1's l1: 0.279262\n",
      "[150]\ttraining's l1: 0.284991\tvalid_1's l1: 0.276907\n",
      "[200]\ttraining's l1: 0.283635\tvalid_1's l1: 0.275909\n",
      "[250]\ttraining's l1: 0.283071\tvalid_1's l1: 0.275302\n",
      "[300]\ttraining's l1: 0.282165\tvalid_1's l1: 0.274934\n",
      "[350]\ttraining's l1: 0.281606\tvalid_1's l1: 0.274417\n",
      "[400]\ttraining's l1: 0.281006\tvalid_1's l1: 0.273919\n",
      "[450]\ttraining's l1: 0.280188\tvalid_1's l1: 0.273133\n",
      "[500]\ttraining's l1: 0.279418\tvalid_1's l1: 0.272655\n",
      "Train mean daily MAE: 1.0211847411949384\n",
      "Valid mean daily MAE: 1.045528178126395\n",
      "\n",
      "Fold 4\n",
      "2021-06-18 00:00:00 2021-07-03 00:00:00\n",
      "[LightGBM] [Warning] early_stopping_round is set=50, early_stopping_rounds=50 will be ignored. Current value: early_stopping_round=50\n",
      "[LightGBM] [Warning] feature_fraction is set=0.5, colsample_bytree=1.0 will be ignored. Current value: feature_fraction=0.5\n",
      "[50]\ttraining's l1: 0.288168\tvalid_1's l1: 0.292\n",
      "[100]\ttraining's l1: 0.285024\tvalid_1's l1: 0.291847\n",
      "[150]\ttraining's l1: 0.283335\tvalid_1's l1: 0.291722\n",
      "Train mean daily MAE: 1.0346770870699171\n",
      "Valid mean daily MAE: 1.0828506211480438\n",
      "\n",
      "Fold 5\n",
      "2021-07-04 00:00:00 2021-07-19 00:00:00\n",
      "[LightGBM] [Warning] early_stopping_round is set=50, early_stopping_rounds=50 will be ignored. Current value: early_stopping_round=50\n",
      "[LightGBM] [Warning] feature_fraction is set=0.5, colsample_bytree=1.0 will be ignored. Current value: feature_fraction=0.5\n",
      "[50]\ttraining's l1: 0.289072\tvalid_1's l1: 0.293897\n",
      "[100]\ttraining's l1: 0.285566\tvalid_1's l1: 0.291556\n",
      "[150]\ttraining's l1: 0.283666\tvalid_1's l1: 0.290518\n",
      "[200]\ttraining's l1: 0.282289\tvalid_1's l1: 0.289072\n",
      "[250]\ttraining's l1: 0.281734\tvalid_1's l1: 0.289713\n",
      "Train mean daily MAE: 1.0311821878115128\n",
      "Valid mean daily MAE: 1.097401858715899\n"
     ]
    }
   ],
   "source": [
    "for fold, fold_dates in enumerate(folds):\n",
    "    \n",
    "    print(f'\\nFold {fold+1}')\n",
    "    \n",
    "    start_date, end_date = pd.Timestamp(fold_dates[0]), pd.Timestamp(fold_dates[1])\n",
    "    print(start_date, end_date)\n",
    "    \n",
    "    train_mask = (X['date'] < start_date) | (X['date']>end_date)\n",
    "    val_mask = (X['date'] >= start_date) & (X['date'] <= end_date)\n",
    "\n",
    "    \n",
    "    X_train, y_train = X.loc[train_mask], y.loc[train_mask]\n",
    "    X_val, y_val = X.loc[val_mask], y.loc[val_mask]\n",
    "    \n",
    "    train_dates, val_dates = X_train['date'], X_val['date']\n",
    "    \n",
    "    X_train, X_val = X_train.drop('date', axis=1), X_val.drop('date', axis=1)\n",
    "    \n",
    "    lgb_reg = lgb.LGBMRegressor(**params)\n",
    "    lgb_reg.fit(X_train, y_train, eval_set=[(X_train, y_train), (X_val, y_val)], verbose=50)\n",
    "    \n",
    "    y_train_pred = lgb_reg.predict(X_train)\n",
    "    y_val_pred = lgb_reg.predict(X_val)\n",
    "    \n",
    "#     y_train_pred = np.where(X_train['SKU'].isin(sku_float_sales), y_train_pred, np.round(y_train_pred))\n",
    "#     y_val_pred = np.where(X_val['SKU'].isin(sku_float_sales), y_val_pred, np.round(y_val_pred))\n",
    "    \n",
    "    train_mae_scores.append(custom_mae(y_train, np.round(y_train_pred), train_dates))\n",
    "    val_mae_scores.append(custom_mae(y_val, np.round(y_val_pred), val_dates))\n",
    "    \n",
    "    print('Train mean daily MAE:', train_mae_scores[-1])\n",
    "    print('Valid mean daily MAE:', val_mae_scores[-1])\n",
    "    \n",
    "    models.append(lgb_reg)"
   ]
  },
  {
   "cell_type": "code",
   "execution_count": 42,
   "id": "fdfcce89-2664-4c70-9290-801de332d0d4",
   "metadata": {},
   "outputs": [
    {
     "name": "stdout",
     "output_type": "stream",
     "text": [
      "Train score: 1.0323963929132929+-0.00606872006386897\n",
      "[1.03707676 1.03786119 1.02118474 1.03467709 1.03118219]\n",
      "\n",
      "Val score: 1.062826087054429+-0.024141512059155802\n",
      "[1.05687617 1.03147361 1.04552818 1.08285062 1.09740186]\n",
      "\n"
     ]
    }
   ],
   "source": [
    "train_mae_scores, val_mae_scores = np.array(train_mae_scores), np.array(val_mae_scores)\n",
    "\n",
    "print(f'Train score: {train_mae_scores.mean()}+-{train_mae_scores.std()}\\n{train_mae_scores}\\n')\n",
    "print(f'Val score: {val_mae_scores.mean()}+-{val_mae_scores.std()}\\n{val_mae_scores}\\n')"
   ]
  },
  {
   "cell_type": "code",
   "execution_count": 61,
   "id": "2b24e390-6e5f-4c16-a7b0-44f7abeb5bd1",
   "metadata": {},
   "outputs": [
    {
     "data": {
      "text/plain": [
       "lagerUnitTypeId         5\n",
       "commodity_group         7\n",
       "countryOfOrigin        15\n",
       "cityId                 22\n",
       "brandId                99\n",
       "dayofweek             179\n",
       "lagerUnitQuantity     185\n",
       "trademark             220\n",
       "month                 290\n",
       "productCategoryId     297\n",
       "productTypeId         315\n",
       "day                   703\n",
       "price                 867\n",
       "geoCluster           1371\n",
       "SKU                  1455\n",
       "dtype: int32"
      ]
     },
     "execution_count": 61,
     "metadata": {},
     "output_type": "execute_result"
    }
   ],
   "source": [
    "pd.Series(index=X_train.columns, data=lgb_reg.feature_importances_).sort_values()"
   ]
  },
  {
   "cell_type": "code",
   "execution_count": 45,
   "id": "0e5459fd-c79a-4401-b237-c71ede3b3374",
   "metadata": {},
   "outputs": [
    {
     "data": {
      "text/plain": [
       "Index(['geoCluster', 'SKU', 'price', 'productCategoryId', 'productTypeId',\n",
       "       'brandId', 'lagerUnitQuantity', 'lagerUnitTypeId', 'trademark',\n",
       "       'countryOfOrigin', 'commodity_group', 'cityId', 'month', 'day',\n",
       "       'dayofweek'],\n",
       "      dtype='object')"
      ]
     },
     "execution_count": 45,
     "metadata": {},
     "output_type": "execute_result"
    }
   ],
   "source": [
    "X_train.columns"
   ]
  },
  {
   "cell_type": "code",
   "execution_count": 46,
   "id": "0c2dd51c-0b25-4e69-a637-2cfce8e8bea1",
   "metadata": {},
   "outputs": [
    {
     "data": {
      "text/plain": [
       "14"
      ]
     },
     "execution_count": 46,
     "metadata": {},
     "output_type": "execute_result"
    }
   ],
   "source": [
    "gc.collect()"
   ]
  },
  {
   "cell_type": "markdown",
   "id": "c776c517-d867-4d46-8b59-0c53218c3544",
   "metadata": {},
   "source": [
    "## Прогноз"
   ]
  },
  {
   "cell_type": "code",
   "execution_count": 47,
   "id": "bd91f3c9-8842-41b4-9636-07165f83e828",
   "metadata": {
    "tags": []
   },
   "outputs": [],
   "source": [
    "df_test = merge_data(df_test)\n",
    "df_test = preprocess_date(df_test)\n",
    "df_test = categorize_columns(df_test)"
   ]
  },
  {
   "cell_type": "code",
   "execution_count": 48,
   "id": "5f244051-4e61-4f64-ba26-1726a3225d76",
   "metadata": {},
   "outputs": [],
   "source": [
    "X_sku_prices = X.groupby(['SKU'])['price'].agg(['min', 'max'])"
   ]
  },
  {
   "cell_type": "code",
   "execution_count": 49,
   "id": "6d435096-4dc7-4b8f-a987-cdd510826e28",
   "metadata": {},
   "outputs": [],
   "source": [
    "def adjust_price(price, sku):\n",
    "    price_min_max = X_sku_prices.loc[sku]\n",
    "    if price > price_min_max['max']:\n",
    "        return price_min_max['max']\n",
    "    if price < price_min_max['min']:\n",
    "        return price_min_max['min']\n",
    "    return price\n",
    "\n",
    "train_skus = X_sku_prices.index.tolist()\n",
    "df_test.loc[df_test['SKU'].isin(train_skus), 'price'] = df_test.loc[df_test['SKU'].isin(train_skus)].apply(lambda row: adjust_price(row['price'], row['SKU']), axis=1)"
   ]
  },
  {
   "cell_type": "code",
   "execution_count": 50,
   "id": "6aaca896-df00-4dc4-b269-deff700c5618",
   "metadata": {},
   "outputs": [],
   "source": [
    "df_test.drop(info_cols, axis=1, inplace=True)"
   ]
  },
  {
   "cell_type": "code",
   "execution_count": 51,
   "id": "717f0cad-4163-41f0-9737-640b5bf64db7",
   "metadata": {},
   "outputs": [],
   "source": [
    "predictions = []\n",
    "for model in models:\n",
    "    predictions.append(model.predict(df_test, num_iteration=lgb_reg.best_iteration_))"
   ]
  },
  {
   "cell_type": "code",
   "execution_count": 52,
   "id": "02863757-c775-4a70-9de4-2b3b29e15d75",
   "metadata": {},
   "outputs": [
    {
     "data": {
      "text/plain": [
       "<AxesSubplot:>"
      ]
     },
     "execution_count": 52,
     "metadata": {},
     "output_type": "execute_result"
    },
    {
     "data": {
      "image/png": "[encoded data removed]",
      "text/plain": [
       "<Figure size 432x288 with 1 Axes>"
      ]
     },
     "metadata": {
      "needs_background": "light"
     },
     "output_type": "display_data"
    }
   ],
   "source": [
    "y.hist()"
   ]
  },
  {
   "cell_type": "code",
   "execution_count": 53,
   "id": "c6c9ef95-3b03-431d-ba22-f4fc8c27fc28",
   "metadata": {},
   "outputs": [
    {
     "data": {
      "text/plain": [
       "<AxesSubplot:>"
      ]
     },
     "execution_count": 53,
     "metadata": {},
     "output_type": "execute_result"
    },
    {
     "data": {
      "image/png": "[encoded data removed]",
      "text/plain": [
       "<Figure size 432x288 with 1 Axes>"
      ]
     },
     "metadata": {
      "needs_background": "light"
     },
     "output_type": "display_data"
    }
   ],
   "source": [
    "submission['sales'] = np.array(predictions).mean(axis=0)\n",
    "submission['sales'].hist()"
   ]
  },
  {
   "cell_type": "code",
   "execution_count": 54,
   "id": "bb088af1-5438-4ac9-a1c9-75b8e7ab3517",
   "metadata": {},
   "outputs": [
    {
     "data": {
      "text/plain": [
       "-2.7819200747371204"
      ]
     },
     "execution_count": 54,
     "metadata": {},
     "output_type": "execute_result"
    }
   ],
   "source": [
    "submission['sales'].min()"
   ]
  },
  {
   "cell_type": "code",
   "execution_count": 55,
   "id": "0f1b9767-8ea6-4770-bd94-786471be7db1",
   "metadata": {},
   "outputs": [
    {
     "data": {
      "text/plain": [
       "<AxesSubplot:>"
      ]
     },
     "execution_count": 55,
     "metadata": {},
     "output_type": "execute_result"
    },
    {
     "data": {
      "image/png": "[encoded data removed]",
      "text/plain": [
       "<Figure size 432x288 with 1 Axes>"
      ]
     },
     "metadata": {
      "needs_background": "light"
     },
     "output_type": "display_data"
    }
   ],
   "source": [
    "submission.loc[submission['sales']<0, 'sales'] = 0\n",
    "\n",
    "submission['sales'] = np.round(submission['sales'])\n",
    "\n",
    "submission['sales'].hist()"
   ]
  },
  {
   "cell_type": "code",
   "execution_count": 57,
   "id": "2ddcad64-e80f-4d7c-88d2-f073d719811e",
   "metadata": {},
   "outputs": [],
   "source": [
    "ts = dt.datetime.now().strftime('%Y%m%d_%H_%M_%S')\n",
    "submission.to_csv(\n",
    "    os.path.join(\n",
    "        OUTPUT_FOLDER,\n",
    "        f'{ts}.csv'\n",
    "    )\n",
    ")"
   ]
  }
 ],
 "metadata": {
  "kernelspec": {
   "display_name": "hack4retail",
   "language": "python",
   "name": "hack4retail"
  },
  "language_info": {
   "codemirror_mode": {
    "name": "ipython",
    "version": 3
   },
   "file_extension": ".py",
   "mimetype": "text/x-python",
   "name": "python",
   "nbconvert_exporter": "python",
   "pygments_lexer": "ipython3",
   "version": "3.9.7"
  }
 },
 "nbformat": 4,
 "nbformat_minor": 5
}
