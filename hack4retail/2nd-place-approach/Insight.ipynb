{
 "cells": [
  {
   "cell_type": "code",
   "execution_count": 1,
   "id": "8038697e-e5df-4fd3-8b3e-9700a0063cbb",
   "metadata": {},
   "outputs": [],
   "source": [
    "import datetime as dt\n",
    "import os\n",
    "import gc\n",
    "\n",
    "import pandas as pd\n",
    "import numpy as np\n",
    "import matplotlib.pyplot as plt\n",
    "\n",
    "import lightgbm as lgb\n",
    "from sklearn.model_selection import KFold\n",
    "\n",
    "pd.set_option('display.max_rows', 1000)\n",
    "pd.set_option('display.max_columns', 100)\n",
    "\n",
    "INPUT_FOLDER = './data/input'\n",
    "OUTPUT_FOLDER = './data/output'\n",
    "\n",
    "os.listdir(INPUT_FOLDER)\n",
    "dateparser = lambda x: dt.datetime.strptime(x, '%Y-%m-%d')"
   ]
  },
  {
   "cell_type": "markdown",
   "id": "28bf1116-4733-4822-bad9-521e8f7ac794",
   "metadata": {},
   "source": [
    "## Зчитаємо дані"
   ]
  },
  {
   "cell_type": "markdown",
   "id": "1499ce75-90a7-4257-85e4-700f335c6145",
   "metadata": {},
   "source": [
    "Заповнимо пропущені значення, обмежемо тренувальну вибірку."
   ]
  },
  {
   "cell_type": "code",
   "execution_count": 2,
   "id": "810e997f-804c-42c1-ae69-36fee2ff9127",
   "metadata": {},
   "outputs": [
    {
     "data": {
      "text/html": [
       "<div>\n",
       "<style scoped>\n",
       "    .dataframe tbody tr th:only-of-type {\n",
       "        vertical-align: middle;\n",
       "    }\n",
       "\n",
       "    .dataframe tbody tr th {\n",
       "        vertical-align: top;\n",
       "    }\n",
       "\n",
       "    .dataframe thead th {\n",
       "        text-align: right;\n",
       "    }\n",
       "</style>\n",
       "<table border=\"1\" class=\"dataframe\">\n",
       "  <thead>\n",
       "    <tr style=\"text-align: right;\">\n",
       "      <th></th>\n",
       "      <th>geoCluster</th>\n",
       "      <th>SKU</th>\n",
       "      <th>date</th>\n",
       "      <th>price</th>\n",
       "      <th>sales</th>\n",
       "    </tr>\n",
       "    <tr>\n",
       "      <th>ID</th>\n",
       "      <th></th>\n",
       "      <th></th>\n",
       "      <th></th>\n",
       "      <th></th>\n",
       "      <th></th>\n",
       "    </tr>\n",
       "  </thead>\n",
       "  <tbody>\n",
       "    <tr>\n",
       "      <th>RR41796038</th>\n",
       "      <td>2653</td>\n",
       "      <td>808038</td>\n",
       "      <td>2021-05-01</td>\n",
       "      <td>34.19</td>\n",
       "      <td>0.0</td>\n",
       "    </tr>\n",
       "    <tr>\n",
       "      <th>RR53812295</th>\n",
       "      <td>2239</td>\n",
       "      <td>259516</td>\n",
       "      <td>2021-05-01</td>\n",
       "      <td>19.99</td>\n",
       "      <td>0.0</td>\n",
       "    </tr>\n",
       "    <tr>\n",
       "      <th>RR32235156</th>\n",
       "      <td>2006</td>\n",
       "      <td>756640</td>\n",
       "      <td>2021-05-01</td>\n",
       "      <td>120.79</td>\n",
       "      <td>0.0</td>\n",
       "    </tr>\n",
       "    <tr>\n",
       "      <th>RR44125338</th>\n",
       "      <td>2086</td>\n",
       "      <td>709122</td>\n",
       "      <td>2021-05-01</td>\n",
       "      <td>18.49</td>\n",
       "      <td>0.0</td>\n",
       "    </tr>\n",
       "    <tr>\n",
       "      <th>RR53810272</th>\n",
       "      <td>2239</td>\n",
       "      <td>221793</td>\n",
       "      <td>2021-05-01</td>\n",
       "      <td>11.39</td>\n",
       "      <td>0.0</td>\n",
       "    </tr>\n",
       "  </tbody>\n",
       "</table>\n",
       "</div>"
      ],
      "text/plain": [
       "            geoCluster     SKU       date   price  sales\n",
       "ID                                                      \n",
       "RR41796038        2653  808038 2021-05-01   34.19    0.0\n",
       "RR53812295        2239  259516 2021-05-01   19.99    0.0\n",
       "RR32235156        2006  756640 2021-05-01  120.79    0.0\n",
       "RR44125338        2086  709122 2021-05-01   18.49    0.0\n",
       "RR53810272        2239  221793 2021-05-01   11.39    0.0"
      ]
     },
     "execution_count": 2,
     "metadata": {},
     "output_type": "execute_result"
    }
   ],
   "source": [
    "df_train = pd.read_csv(os.path.join(INPUT_FOLDER, 'train_final.csv'), \n",
    "    index_col='ID', \n",
    "    parse_dates = ['date'],\n",
    "    date_parser=dateparser)  \n",
    "\n",
    "df_train['sales'].fillna(0, inplace=True)\n",
    "df_train.sort_values('date', inplace=True)\n",
    "df_train['price'] = df_train.groupby(['geoCluster', 'SKU'], sort=False)['price'].apply(lambda x: x.ffill().bfill())\n",
    "\n",
    "# df_train['price_change'] = df_train.sort_values('date').groupby(['geoCluster', 'SKU'], sort=False)['price'].apply(lambda x: x - x.shift()).loc[df_train.index]\n",
    "df_train = df_train[df_train['date'] >= '2021-05-01']\n",
    "df_train.head()"
   ]
  },
  {
   "cell_type": "markdown",
   "id": "2d2dfa28-932b-4975-90b1-7ea3df9b1fd7",
   "metadata": {},
   "source": [
    "Порахуємо зміну ціни."
   ]
  },
  {
   "cell_type": "code",
   "execution_count": 3,
   "id": "24668db7-677b-4be8-85ba-41254c7e8532",
   "metadata": {},
   "outputs": [],
   "source": [
    "df_train['price_change'] = df_train.sort_values('date').groupby(['geoCluster', 'SKU'], sort=False)['price'].apply(lambda x: x - x.shift()).loc[df_train.index]"
   ]
  },
  {
   "cell_type": "code",
   "execution_count": 4,
   "id": "30591fbe-a099-40bb-bebb-b1a9bd331883",
   "metadata": {},
   "outputs": [
    {
     "data": {
      "text/plain": [
       "0"
      ]
     },
     "execution_count": 4,
     "metadata": {},
     "output_type": "execute_result"
    }
   ],
   "source": [
    "df_train[(df_train['price_change'] != 0) & (df_train['price_change'].notna()) & (df_train['sales'] == 0)].shape[0]"
   ]
  },
  {
   "cell_type": "markdown",
   "id": "3f3eb632-cdff-4b44-8df6-c02e751be18c",
   "metadata": {},
   "source": [
    "Якщо ми все заповнимо нулями, то `%MAE=1`.\n",
    "\n",
    "Ми точно знаємо, що коли ціна змінюється, продажі відбуваються (1) <br>\n",
    "Коли ціна не змінюється, продажі не обов'язково відбуваються (2) <br>\n",
    "\n",
    "Тому для мінімізації метрики, можемо заповнити таблицю 0 у випадку (2) - це найбільш \"безпечний варіант\". Прогноз  для випадку (1)\n",
    "Таким чином ми знаємо,що ми точно не зробили помилку `%MAE>1` у випадку (2), а для випадку (1) ми підійшли творчо - спробували заповнити різними статистиками для продажів з тренувального датасету. Насправді модель теж пробували будувати для підвибірки, де змінюється ціна, але це не дало результату кращого ніж медіана."
   ]
  },
  {
   "cell_type": "code",
   "execution_count": 5,
   "id": "a347617a-9a1e-4c6e-8433-b6665e68a9d0",
   "metadata": {},
   "outputs": [
    {
     "name": "stdout",
     "output_type": "stream",
     "text": [
      "(1666028, 5)\n"
     ]
    },
    {
     "data": {
      "text/html": [
       "<div>\n",
       "<style scoped>\n",
       "    .dataframe tbody tr th:only-of-type {\n",
       "        vertical-align: middle;\n",
       "    }\n",
       "\n",
       "    .dataframe tbody tr th {\n",
       "        vertical-align: top;\n",
       "    }\n",
       "\n",
       "    .dataframe thead th {\n",
       "        text-align: right;\n",
       "    }\n",
       "</style>\n",
       "<table border=\"1\" class=\"dataframe\">\n",
       "  <thead>\n",
       "    <tr style=\"text-align: right;\">\n",
       "      <th></th>\n",
       "      <th>geoCluster</th>\n",
       "      <th>SKU</th>\n",
       "      <th>date</th>\n",
       "      <th>price</th>\n",
       "      <th>price_change</th>\n",
       "    </tr>\n",
       "  </thead>\n",
       "  <tbody>\n",
       "    <tr>\n",
       "      <th>0</th>\n",
       "      <td>21</td>\n",
       "      <td>32485</td>\n",
       "      <td>2021-07-20</td>\n",
       "      <td>66.69</td>\n",
       "      <td>NaN</td>\n",
       "    </tr>\n",
       "    <tr>\n",
       "      <th>1</th>\n",
       "      <td>21</td>\n",
       "      <td>32485</td>\n",
       "      <td>2021-07-21</td>\n",
       "      <td>66.69</td>\n",
       "      <td>0.0</td>\n",
       "    </tr>\n",
       "    <tr>\n",
       "      <th>2</th>\n",
       "      <td>21</td>\n",
       "      <td>32485</td>\n",
       "      <td>2021-07-22</td>\n",
       "      <td>66.69</td>\n",
       "      <td>0.0</td>\n",
       "    </tr>\n",
       "    <tr>\n",
       "      <th>3</th>\n",
       "      <td>21</td>\n",
       "      <td>32485</td>\n",
       "      <td>2021-07-23</td>\n",
       "      <td>66.69</td>\n",
       "      <td>0.0</td>\n",
       "    </tr>\n",
       "    <tr>\n",
       "      <th>4</th>\n",
       "      <td>21</td>\n",
       "      <td>32485</td>\n",
       "      <td>2021-07-24</td>\n",
       "      <td>66.69</td>\n",
       "      <td>0.0</td>\n",
       "    </tr>\n",
       "  </tbody>\n",
       "</table>\n",
       "</div>"
      ],
      "text/plain": [
       "   geoCluster    SKU       date  price  price_change\n",
       "0          21  32485 2021-07-20  66.69           NaN\n",
       "1          21  32485 2021-07-21  66.69           0.0\n",
       "2          21  32485 2021-07-22  66.69           0.0\n",
       "3          21  32485 2021-07-23  66.69           0.0\n",
       "4          21  32485 2021-07-24  66.69           0.0"
      ]
     },
     "execution_count": 5,
     "metadata": {},
     "output_type": "execute_result"
    }
   ],
   "source": [
    "df_test = pd.read_csv(\n",
    "    os.path.join(INPUT_FOLDER, 'test_data.csv'),\n",
    "    index_col='ID', \n",
    "    parse_dates = ['date'],\n",
    "    date_parser=dateparser\n",
    ")\n",
    "\n",
    "\n",
    "df_test['price_change'] = df_test.groupby(['geoCluster', 'SKU'], sort=False)['price'].apply(lambda x: x - x.shift())\n",
    "df_test.reset_index(drop=True, inplace=True)\n",
    "\n",
    "print(df_test.shape)\n",
    "df_test.head()"
   ]
  },
  {
   "cell_type": "code",
   "execution_count": 6,
   "id": "1cd9cda4-4e38-4787-a35b-e87615d12d6f",
   "metadata": {},
   "outputs": [
    {
     "data": {
      "text/html": [
       "<div>\n",
       "<style scoped>\n",
       "    .dataframe tbody tr th:only-of-type {\n",
       "        vertical-align: middle;\n",
       "    }\n",
       "\n",
       "    .dataframe tbody tr th {\n",
       "        vertical-align: top;\n",
       "    }\n",
       "\n",
       "    .dataframe thead th {\n",
       "        text-align: right;\n",
       "    }\n",
       "</style>\n",
       "<table border=\"1\" class=\"dataframe\">\n",
       "  <thead>\n",
       "    <tr style=\"text-align: right;\">\n",
       "      <th></th>\n",
       "      <th>sales</th>\n",
       "    </tr>\n",
       "    <tr>\n",
       "      <th>ID</th>\n",
       "      <th></th>\n",
       "    </tr>\n",
       "  </thead>\n",
       "  <tbody>\n",
       "    <tr>\n",
       "      <th>RR1666030</th>\n",
       "      <td>0</td>\n",
       "    </tr>\n",
       "    <tr>\n",
       "      <th>RR1666031</th>\n",
       "      <td>0</td>\n",
       "    </tr>\n",
       "    <tr>\n",
       "      <th>RR1666032</th>\n",
       "      <td>0</td>\n",
       "    </tr>\n",
       "    <tr>\n",
       "      <th>RR1666033</th>\n",
       "      <td>0</td>\n",
       "    </tr>\n",
       "    <tr>\n",
       "      <th>RR1666034</th>\n",
       "      <td>0</td>\n",
       "    </tr>\n",
       "  </tbody>\n",
       "</table>\n",
       "</div>"
      ],
      "text/plain": [
       "           sales\n",
       "ID              \n",
       "RR1666030      0\n",
       "RR1666031      0\n",
       "RR1666032      0\n",
       "RR1666033      0\n",
       "RR1666034      0"
      ]
     },
     "execution_count": 6,
     "metadata": {},
     "output_type": "execute_result"
    }
   ],
   "source": [
    "submission = pd.read_csv(os.path.join(INPUT_FOLDER, 'sample_final.csv'), index_col='ID')\n",
    "submission.head()"
   ]
  },
  {
   "cell_type": "markdown",
   "id": "c776c517-d867-4d46-8b59-0c53218c3544",
   "metadata": {
    "tags": []
   },
   "source": [
    "# Прознозування"
   ]
  },
  {
   "cell_type": "markdown",
   "id": "374bbc0f-eb17-4093-98fd-b6a1d9bf660a",
   "metadata": {},
   "source": [
    "Тестові дані заповнюємо відповідно."
   ]
  },
  {
   "cell_type": "code",
   "execution_count": 7,
   "id": "322019a5-9115-4e49-93d9-ec91421480a3",
   "metadata": {
    "tags": []
   },
   "outputs": [
    {
     "data": {
      "text/html": [
       "<div>\n",
       "<style scoped>\n",
       "    .dataframe tbody tr th:only-of-type {\n",
       "        vertical-align: middle;\n",
       "    }\n",
       "\n",
       "    .dataframe tbody tr th {\n",
       "        vertical-align: top;\n",
       "    }\n",
       "\n",
       "    .dataframe thead th {\n",
       "        text-align: right;\n",
       "    }\n",
       "</style>\n",
       "<table border=\"1\" class=\"dataframe\">\n",
       "  <thead>\n",
       "    <tr style=\"text-align: right;\">\n",
       "      <th></th>\n",
       "      <th>geoCluster</th>\n",
       "      <th>SKU</th>\n",
       "      <th>date</th>\n",
       "      <th>price</th>\n",
       "      <th>price_change</th>\n",
       "      <th>sales</th>\n",
       "    </tr>\n",
       "  </thead>\n",
       "  <tbody>\n",
       "    <tr>\n",
       "      <th>195875</th>\n",
       "      <td>2017</td>\n",
       "      <td>17</td>\n",
       "      <td>2021-07-21</td>\n",
       "      <td>19.99</td>\n",
       "      <td>0.0</td>\n",
       "      <td>NaN</td>\n",
       "    </tr>\n",
       "    <tr>\n",
       "      <th>776122</th>\n",
       "      <td>2158</td>\n",
       "      <td>419952</td>\n",
       "      <td>2021-07-24</td>\n",
       "      <td>374.99</td>\n",
       "      <td>0.0</td>\n",
       "      <td>NaN</td>\n",
       "    </tr>\n",
       "    <tr>\n",
       "      <th>831838</th>\n",
       "      <td>2183</td>\n",
       "      <td>540390</td>\n",
       "      <td>2021-07-20</td>\n",
       "      <td>41.29</td>\n",
       "      <td>NaN</td>\n",
       "      <td>NaN</td>\n",
       "    </tr>\n",
       "    <tr>\n",
       "      <th>1081854</th>\n",
       "      <td>2258</td>\n",
       "      <td>607635</td>\n",
       "      <td>2021-07-24</td>\n",
       "      <td>16.39</td>\n",
       "      <td>0.0</td>\n",
       "      <td>3.0</td>\n",
       "    </tr>\n",
       "    <tr>\n",
       "      <th>1615220</th>\n",
       "      <td>2984</td>\n",
       "      <td>819150</td>\n",
       "      <td>2021-08-01</td>\n",
       "      <td>51.19</td>\n",
       "      <td>0.0</td>\n",
       "      <td>2.0</td>\n",
       "    </tr>\n",
       "    <tr>\n",
       "      <th>491855</th>\n",
       "      <td>2061</td>\n",
       "      <td>837329</td>\n",
       "      <td>2021-07-27</td>\n",
       "      <td>25.59</td>\n",
       "      <td>0.0</td>\n",
       "      <td>NaN</td>\n",
       "    </tr>\n",
       "    <tr>\n",
       "      <th>643144</th>\n",
       "      <td>2117</td>\n",
       "      <td>868167</td>\n",
       "      <td>2021-08-01</td>\n",
       "      <td>24.09</td>\n",
       "      <td>0.0</td>\n",
       "      <td>NaN</td>\n",
       "    </tr>\n",
       "    <tr>\n",
       "      <th>1287839</th>\n",
       "      <td>2406</td>\n",
       "      <td>810184</td>\n",
       "      <td>2021-07-27</td>\n",
       "      <td>71.09</td>\n",
       "      <td>0.0</td>\n",
       "      <td>NaN</td>\n",
       "    </tr>\n",
       "    <tr>\n",
       "      <th>58052</th>\n",
       "      <td>1935</td>\n",
       "      <td>838007</td>\n",
       "      <td>2021-07-28</td>\n",
       "      <td>248.49</td>\n",
       "      <td>0.0</td>\n",
       "      <td>NaN</td>\n",
       "    </tr>\n",
       "    <tr>\n",
       "      <th>1535683</th>\n",
       "      <td>2807</td>\n",
       "      <td>559301</td>\n",
       "      <td>2021-07-29</td>\n",
       "      <td>326.59</td>\n",
       "      <td>0.0</td>\n",
       "      <td>NaN</td>\n",
       "    </tr>\n",
       "  </tbody>\n",
       "</table>\n",
       "</div>"
      ],
      "text/plain": [
       "         geoCluster     SKU       date   price  price_change  sales\n",
       "195875         2017      17 2021-07-21   19.99           0.0    NaN\n",
       "776122         2158  419952 2021-07-24  374.99           0.0    NaN\n",
       "831838         2183  540390 2021-07-20   41.29           NaN    NaN\n",
       "1081854        2258  607635 2021-07-24   16.39           0.0    3.0\n",
       "1615220        2984  819150 2021-08-01   51.19           0.0    2.0\n",
       "491855         2061  837329 2021-07-27   25.59           0.0    NaN\n",
       "643144         2117  868167 2021-08-01   24.09           0.0    NaN\n",
       "1287839        2406  810184 2021-07-27   71.09           0.0    NaN\n",
       "58052          1935  838007 2021-07-28  248.49           0.0    NaN\n",
       "1535683        2807  559301 2021-07-29  326.59           0.0    NaN"
      ]
     },
     "execution_count": 7,
     "metadata": {},
     "output_type": "execute_result"
    }
   ],
   "source": [
    "df_test = df_test.merge(\n",
    "    df_train[df_train['sales'] > 0].groupby(['geoCluster', 'SKU'])['sales'].median().reset_index(), on = ['geoCluster', 'SKU'], how='left')\n",
    "df_test.sample(10)"
   ]
  },
  {
   "cell_type": "code",
   "execution_count": 8,
   "id": "839568ad-f3cc-4fb4-bd7d-f51de176e44f",
   "metadata": {},
   "outputs": [],
   "source": [
    "submission['sales'] = 0\n",
    "submission['sales'] = np.where(\n",
    "    (np.abs(df_test['price_change']) > 0),\n",
    "    df_test['sales'],\n",
    "    submission['sales']\n",
    ")\n",
    "\n",
    "submission['sales'].fillna(0, inplace=True)"
   ]
  },
  {
   "cell_type": "code",
   "execution_count": 9,
   "id": "60e98840-021a-4529-a514-6da790cd3c4a",
   "metadata": {},
   "outputs": [],
   "source": [
    "ts = dt.datetime.now().strftime('%Y%m%d_%H_%M_%S')\n",
    "submission.to_csv(\n",
    "    os.path.join(\n",
    "        OUTPUT_FOLDER,\n",
    "        f'{ts}.csv'\n",
    "    )\n",
    ")"
   ]
  }
 ],
 "metadata": {
  "kernelspec": {
   "display_name": "hack4retail",
   "language": "python",
   "name": "hack4retail"
  },
  "language_info": {
   "codemirror_mode": {
    "name": "ipython",
    "version": 3
   },
   "file_extension": ".py",
   "mimetype": "text/x-python",
   "name": "python",
   "nbconvert_exporter": "python",
   "pygments_lexer": "ipython3",
   "version": "3.9.7"
  }
 },
 "nbformat": 4,
 "nbformat_minor": 5
}
